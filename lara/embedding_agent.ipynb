{
 "cells": [
  {
   "cell_type": "markdown",
   "metadata": {},
   "source": [
    "# Embedding Agent"
   ]
  },
  {
   "cell_type": "markdown",
   "metadata": {},
   "source": [
    "What if I trained an agent on word embeddings through reinforcement learning, to predict the results of analogies à la \"king - man + woman = queen\"?\n",
    "\n",
    "Can I study the world model it builds, and thus deduce things about the world models that could be built from the semantic embeddings?\n",
    "Can I apply IRL methodology to study the reward structure?\n",
    "Can I use the agents knowledge of semantics to have it act in a (ad hoc and virtual) world?"
   ]
  },
  {
   "cell_type": "markdown",
   "metadata": {},
   "source": [
    "**WON'T THE AGENT SIMPLY LEARN TO RECONSTRUCT THE EMBEDDING SPACE (OR AT LEAST LOCAL PARTS OF IT)? THIS EXPERIMENT NEEDS MORE CONSIDERATION: AS IT STANDS IT'S JUST NOT AS INTERESTING AS I FIRST IMAGINED IT WOULD BE...**"
   ]
  },
  {
   "cell_type": "markdown",
   "metadata": {},
   "source": [
    "(To download the glove embeddings, go here: https://nlp.stanford.edu/projects/glove/)"
   ]
  },
  {
   "cell_type": "markdown",
   "metadata": {},
   "source": [
    "## Imports"
   ]
  },
  {
   "cell_type": "code",
   "execution_count": 1,
   "metadata": {},
   "outputs": [],
   "source": [
    "import os\n",
    "import random"
   ]
  },
  {
   "cell_type": "code",
   "execution_count": 2,
   "metadata": {},
   "outputs": [],
   "source": [
    "from gensim.models import KeyedVectors\n",
    "\n",
    "from gensim.scripts.glove2word2vec import glove2word2vec\n",
    "from gensim.test.utils import datapath, get_tmpfile\n",
    "\n",
    "import spacy"
   ]
  },
  {
   "cell_type": "markdown",
   "metadata": {},
   "source": [
    "## Embedding space investigations"
   ]
  },
  {
   "cell_type": "code",
   "execution_count": 3,
   "metadata": {},
   "outputs": [],
   "source": [
    "nlp = spacy.load(\"en_core_web_md\")\n",
    "\n",
    "glove_dir = \"glove6B\"\n",
    "glove_file = os.path.join(glove_dir, \"glove.6B.100d.txt\")"
   ]
  },
  {
   "cell_type": "code",
   "execution_count": 4,
   "metadata": {},
   "outputs": [],
   "source": [
    "embeddings_dict = {}\n",
    "with open(glove_file, 'r', encoding='utf-8') as file:\n",
    "    for line in file:\n",
    "        values = line.split()\n",
    "        \n",
    "        token = values[0]\n",
    "        embeddings = list(map(float, values[1:]))\n",
    "        \n",
    "        embeddings_dict[token] = embeddings"
   ]
  },
  {
   "cell_type": "code",
   "execution_count": 5,
   "metadata": {},
   "outputs": [],
   "source": [
    "# get parameter count and embedding dimension\n",
    "_, pc, ed, _ = glove_file.split(\".\")\n",
    "path_w2v = os.path.abspath(f'glove6B/glove.{pc}.{ed}.w2v.txt')\n",
    "\n",
    "glove = datapath(glove_file)\n",
    "w2v = get_tmpfile(path_w2v)\n",
    "\n",
    "model = KeyedVectors.load_word2vec_format(w2v, binary=False)"
   ]
  },
  {
   "cell_type": "code",
   "execution_count": 6,
   "metadata": {},
   "outputs": [],
   "source": [
    "nouns = []\n",
    "for token in list(embeddings_dict.keys())[:3_000]:\n",
    "    doc = nlp(token)\n",
    "    for token in doc:\n",
    "        if token.pos_ == 'NOUN':\n",
    "            nouns.append(token.text)"
   ]
  },
  {
   "cell_type": "code",
   "execution_count": 7,
   "metadata": {},
   "outputs": [],
   "source": [
    "noun_set = set(nouns)\n",
    "# similarity threshold (controls the quality of the data)\n",
    "threshold = 0.7"
   ]
  },
  {
   "cell_type": "code",
   "execution_count": 16,
   "metadata": {},
   "outputs": [
    {
     "data": {
      "text/plain": [
       "0.77205104"
      ]
     },
     "execution_count": 16,
     "metadata": {},
     "output_type": "execute_result"
    }
   ],
   "source": [
    "model.similarity(\"boy\", \"woman\")"
   ]
  },
  {
   "cell_type": "code",
   "execution_count": 21,
   "metadata": {},
   "outputs": [
    {
     "data": {
      "text/plain": [
       "[('seeing', 0.9027366042137146),\n",
       " ('see', 0.8243426084518433),\n",
       " ('everyone', 0.7870626449584961),\n",
       " ('waiting', 0.7580298185348511),\n",
       " ('watching', 0.7564365267753601),\n",
       " ('looking', 0.7529377937316895),\n",
       " ('come', 0.7498775124549866),\n",
       " ('them', 0.7472339272499084),\n",
       " ('find', 0.7459867000579834),\n",
       " ('why', 0.7415868639945984)]"
      ]
     },
     "execution_count": 21,
     "metadata": {},
     "output_type": "execute_result"
    }
   ],
   "source": [
    "model.similar_by_vector(model[\"go\"] - model[\"going\"] + model[\"seeing\"])"
   ]
  },
  {
   "cell_type": "markdown",
   "metadata": {},
   "source": [
    "Generate analogies along the lines of \" `w1` is to `w2` as `x` is to `w3` \"."
   ]
  },
  {
   "cell_type": "code",
   "execution_count": 39,
   "metadata": {},
   "outputs": [],
   "source": [
    "w1 = random.choice(list(noun_set))\n",
    "w2 = random.choice(list(noun_set - {w1}))\n",
    "w3 = random.choice(list(noun_set - {w1, w2}))\n",
    "\n",
    "result = model[w1] - model[w2] + model[w3]\n",
    "\n",
    "xs = model.similar_by_vector(result, topn=5)\n",
    "\n",
    "# TODO this needs more robuts checking to make sure I don't repeat words\n",
    "analogy = (w1, w2, xs[0][0], w3) if xs[0][0] not in {w1, w2, w3} else (w1, w2, xs[1][0], w3)"
   ]
  },
  {
   "cell_type": "code",
   "execution_count": 40,
   "metadata": {},
   "outputs": [
    {
     "data": {
      "text/plain": [
       "('administration', 'progress', 'lynch', 'analyst')"
      ]
     },
     "execution_count": 40,
     "metadata": {},
     "output_type": "execute_result"
    }
   ],
   "source": [
    "analogy"
   ]
  }
 ],
 "metadata": {
  "kernelspec": {
   "display_name": "rei",
   "language": "python",
   "name": "python3"
  },
  "language_info": {
   "codemirror_mode": {
    "name": "ipython",
    "version": 3
   },
   "file_extension": ".py",
   "mimetype": "text/x-python",
   "name": "python",
   "nbconvert_exporter": "python",
   "pygments_lexer": "ipython3",
   "version": "3.11.8"
  }
 },
 "nbformat": 4,
 "nbformat_minor": 2
}
