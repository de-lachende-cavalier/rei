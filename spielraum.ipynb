{
 "cells": [
  {
   "cell_type": "code",
   "execution_count": 4,
   "metadata": {},
   "outputs": [],
   "source": [
    "import numpy as np\n",
    "import matplotlib.pyplot as plt\n",
    "import random"
   ]
  },
  {
   "cell_type": "code",
   "execution_count": 53,
   "metadata": {},
   "outputs": [],
   "source": [
    "def generate_connected_bitmap():\n",
    "    # Start with an all-white 8x8 bitmap\n",
    "    bitmap = np.ones((8, 8), dtype=int)\n",
    "\n",
    "    # List of offsets representing the 8 neighboring cells around a point\n",
    "    neighbors = [(-1, 0), (1, 0), (0, -1), (0, 1), (-1, -1), (-1, 1), (1, -1), (1, 1)]\n",
    "\n",
    "    # Start with a random black pixel\n",
    "    start_x, start_y = np.random.randint(0, 8, 2)\n",
    "    bitmap[start_x, start_y] = 0\n",
    "\n",
    "    # Number of black pixels to add, randomly chosen\n",
    "    num_black_pixels = np.random.randint(1, 15)  # You can adjust this range\n",
    "\n",
    "    for _ in range(num_black_pixels):\n",
    "        # Find all black pixels\n",
    "        black_pixels = np.argwhere(bitmap == 0)\n",
    "\n",
    "        # Randomly select a black pixel\n",
    "        black_pixel = random.choice(black_pixels)\n",
    "\n",
    "        # Generate a list of potential positions for a new black pixel\n",
    "        potential_positions = [(black_pixel[0] + dx, black_pixel[1] + dy) for dx, dy in neighbors]\n",
    "        random.shuffle(potential_positions)\n",
    "\n",
    "        # Place a new black pixel in a valid neighboring position\n",
    "        for x, y in potential_positions:\n",
    "            if 0 <= x < 8 and 0 <= y < 8 and bitmap[x, y] == 1:\n",
    "                bitmap[x, y] = 0\n",
    "                break\n",
    "\n",
    "    plt.imshow(bitmap)\n",
    "    plt.axis('off')\n",
    "    plt.show()\n",
    "\n",
    "    return bitmap"
   ]
  },
  {
   "cell_type": "code",
   "execution_count": 54,
   "metadata": {},
   "outputs": [
    {
     "data": {
      "image/png": "[encoded data removed]",
      "text/plain": [
       "<Figure size 640x480 with 1 Axes>"
      ]
     },
     "metadata": {},
     "output_type": "display_data"
    },
    {
     "data": {
      "text/plain": [
       "array([[1, 1, 1, 1, 0, 0, 0, 0],\n",
       "       [1, 1, 1, 1, 0, 0, 1, 0],\n",
       "       [1, 1, 1, 1, 0, 0, 0, 1],\n",
       "       [1, 1, 1, 1, 0, 1, 1, 1],\n",
       "       [1, 1, 1, 1, 1, 1, 1, 1],\n",
       "       [1, 1, 1, 1, 1, 1, 1, 1],\n",
       "       [1, 1, 1, 1, 1, 1, 1, 1],\n",
       "       [1, 1, 1, 1, 1, 1, 1, 1]])"
      ]
     },
     "execution_count": 54,
     "metadata": {},
     "output_type": "execute_result"
    }
   ],
   "source": [
    "generate_connected_bitmap()"
   ]
  },
  {
   "cell_type": "markdown",
   "metadata": {},
   "source": [
    "The bitmap above will be our \"universe\".\n",
    "We want to proceed as follows:\n",
    "\n",
    "1. Let as many cells \"spawn in\" as necessary (i.e., we want as many cells as there are black pixels)\n",
    "2. Coordinate their actions so that they eventually get into the right formation.\n",
    "\n",
    "Simple to state, not so simply to carry out..."
   ]
  },
  {
   "cell_type": "markdown",
   "metadata": {},
   "source": [
    "## Agent"
   ]
  },
  {
   "cell_type": "code",
   "execution_count": null,
   "metadata": {},
   "outputs": [],
   "source": [
    "class Agent:\n",
    "    def __init__(self, initial_position):\n",
    "        self.position = initial_position\n",
    "        self.neighborhood = None  # To store the state of neighboring cells\n",
    "\n",
    "    def perceive_environment(self, local_area):\n",
    "        # Update the neighborhood state\n",
    "        # This should be called by the environment to provide the latest local area information\n",
    "        self.neighborhood = local_area\n",
    "\n",
    "    def decide_action(self):\n",
    "        # Decide the next action based on the current state of the neighborhood\n",
    "        # This can be implemented using an RL policy\n",
    "        # Returns one of the 9 possible actions (including staying still)\n",
    "        pass\n",
    "\n",
    "    def move(self, action):\n",
    "        # Update the position based on the action\n",
    "        # This would be a move to one of the 8 neighboring cells or staying still\n",
    "        self.position = action  # Simplified, assumes 'action' is the new position\n"
   ]
  }
 ],
 "metadata": {
  "kernelspec": {
   "display_name": "self-organising-systems",
   "language": "python",
   "name": "python3"
  },
  "language_info": {
   "codemirror_mode": {
    "name": "ipython",
    "version": 3
   },
   "file_extension": ".py",
   "mimetype": "text/x-python",
   "name": "python",
   "nbconvert_exporter": "python",
   "pygments_lexer": "ipython3",
   "version": "3.11.6"
  }
 },
 "nbformat": 4,
 "nbformat_minor": 2
}
